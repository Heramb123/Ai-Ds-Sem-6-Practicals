{
  "cells": [
    {
      "cell_type": "markdown",
      "source": [
        "tf.constant: This function is used to create a constant tensor with a specified value. For example, tf.constant(5) would create a tensor with the value 5.\n",
        "\n",
        "tf.Variable: This function is used to create a mutable variable tensor that can be modified during training. For example, tf.Variable(0) would create a variable tensor with an initial value of 0.\n",
        "\n",
        "tf.nn.relu: This function implements the rectified linear unit activation function, which is commonly used in neural networks. It returns the input tensor with all negative values set to zero.\n",
        "\n",
        "tf.reduce_mean: This function is used to compute the mean value of a tensor across one or more dimensions. For example, tf.reduce_mean([[1, 2], [3, 4]], axis=0) would compute the mean of each column, resulting in [2, 3].\n",
        "\n",
        "tf.keras.layers.Dense: This function is used to create a dense layer in a neural network. It implements a fully connected layer with the specified number of units and activation function. For example, tf.keras.layers.Dense(10, activation='relu') would create a dense layer with 10 units and the rectified linear unit activation function.\n",
        "\n",
        "\n",
        "\n",
        "\n",
        "\n",
        "Heramb Pawar\n",
        "give program for same\n",
        "Here's an example program that demonstrates the use of the five TensorFlow functions described earlier:\n",
        "\n",
        "python\n",
        "Copy code\n",
        "import tensorflow as tf\n",
        "\n",
        "# Create a constant tensor\n",
        "a = tf.constant(5)\n",
        "\n",
        "# Create a mutable variable tensor\n",
        "b = tf.Variable(0)\n",
        "\n",
        "# Implement the rectified linear unit activation function\n",
        "x = tf.constant([-1, 2, -3, 4])\n",
        "y = tf.nn.relu(x)\n",
        "\n",
        "# Compute the mean of a tensor across one dimension\n",
        "z = tf.constant([[1, 2], [3, 4]])\n",
        "m = tf.reduce_mean(z, axis=0)\n",
        "\n",
        "# Create a dense layer in a neural network\n",
        "layer = tf.keras.layers.Dense(10, activation='relu')\n",
        "\n",
        "# Print the results\n",
        "print(a.numpy())  # 5\n",
        "print(b.numpy())  # 0\n",
        "print(y.numpy())  # [0, 2, 0, 4]\n",
        "print(m.numpy())  # [2, 3]\n",
        "print(layer)      # <tensorflow.python.keras.layers.core.Dense object at 0x7f610c24cd50>\n",
        "Note that this is just a simple example, and in practice, you would typically use these functions in a more complex TensorFlow model.\n",
        "\n",
        "\n",
        "\n",
        "\n",
        "\n"
      ],
      "metadata": {
        "id": "hGtKqRpbScwO"
      },
      "id": "hGtKqRpbScwO"
    },
    {
      "cell_type": "code",
      "source": [
        "import tensorflow as tf\n",
        "\n",
        "# Create a constant tensor\n",
        "a = tf.constant(5)\n",
        "\n",
        "# Create a mutable variable tensor\n",
        "b = tf.Variable(0)\n",
        "\n",
        "# Implement the rectified linear unit activation function\n",
        "x = tf.constant([-1, 2, -3, 4])\n",
        "y = tf.nn.relu(x)\n",
        "\n",
        "# Compute the mean of a tensor across one dimension\n",
        "z = tf.constant([[1, 2], [3, 4]])\n",
        "m = tf.reduce_mean(z, axis=0)\n",
        "\n",
        "# Create a dense layer in a neural network\n",
        "layer = tf.keras.layers.Dense(10, activation='relu')\n",
        "\n",
        "# Print the results\n",
        "print(a.numpy())  # 5\n",
        "print(b.numpy())  # 0\n",
        "print(y.numpy())  # [0, 2, 0, 4]\n",
        "print(m.numpy())  # [2, 3]\n",
        "print(layer)      # <tensorflow.python.keras.layers.core.Dense object at 0x7f610c24cd50>\n"
      ],
      "metadata": {
        "colab": {
          "base_uri": "https://localhost:8080/"
        },
        "id": "z4zDagnLSVqi",
        "outputId": "497f9a27-f754-4329-d1cc-052a9284f19e"
      },
      "id": "z4zDagnLSVqi",
      "execution_count": 1,
      "outputs": [
        {
          "output_type": "stream",
          "name": "stdout",
          "text": [
            "5\n",
            "0\n",
            "[0 2 0 4]\n",
            "[2 3]\n",
            "<keras.layers.core.dense.Dense object at 0x7fda60335b80>\n"
          ]
        }
      ]
    }
  ],
  "nbformat": 4,
  "nbformat_minor": 5,
  "metadata": {
    "colab": {
      "provenance": []
    },
    "language_info": {
      "name": "python"
    },
    "kernelspec": {
      "name": "python3",
      "display_name": "Python 3"
    },
    "gpuClass": "standard"
  }
}