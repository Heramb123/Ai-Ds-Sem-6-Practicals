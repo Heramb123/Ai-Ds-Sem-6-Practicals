{
 "cells": [
  {
   "cell_type": "code",
   "execution_count": 1,
   "id": "59dda0d2",
   "metadata": {},
   "outputs": [
    {
     "name": "stdout",
     "output_type": "stream",
     "text": [
      "Requirement already satisfied: nltk in c:\\users\\heram\\appdata\\local\\programs\\python\\python311\\lib\\site-packages (3.8.1)\n",
      "Requirement already satisfied: click in c:\\users\\heram\\appdata\\local\\programs\\python\\python311\\lib\\site-packages (from nltk) (8.1.3)\n",
      "Requirement already satisfied: joblib in c:\\users\\heram\\appdata\\local\\programs\\python\\python311\\lib\\site-packages (from nltk) (1.2.0)\n",
      "Requirement already satisfied: regex>=2021.8.3 in c:\\users\\heram\\appdata\\local\\programs\\python\\python311\\lib\\site-packages (from nltk) (2023.3.23)\n",
      "Requirement already satisfied: tqdm in c:\\users\\heram\\appdata\\local\\programs\\python\\python311\\lib\\site-packages (from nltk) (4.65.0)\n",
      "Requirement already satisfied: colorama in c:\\users\\heram\\appdata\\local\\programs\\python\\python311\\lib\\site-packages (from click->nltk) (0.4.6)\n",
      "Note: you may need to restart the kernel to use updated packages.\n"
     ]
    },
    {
     "name": "stderr",
     "output_type": "stream",
     "text": [
      "\n",
      "[notice] A new release of pip available: 22.3.1 -> 23.1.1\n",
      "[notice] To update, run: C:\\Users\\heram\\AppData\\Local\\Programs\\Python\\Python311\\python.exe -m pip install --upgrade pip\n"
     ]
    }
   ],
   "source": [
    "pip install nltk"
   ]
  },
  {
   "cell_type": "code",
   "execution_count": 2,
   "id": "d2392170",
   "metadata": {},
   "outputs": [
    {
     "name": "stdout",
     "output_type": "stream",
     "text": [
      "Hello! Long-time members of the Proton community will notice this newsletter is a little different from our previous ones is not spam\n"
     ]
    },
    {
     "name": "stderr",
     "output_type": "stream",
     "text": [
      "[nltk_data] Downloading package punkt to\n",
      "[nltk_data]     C:\\Users\\heram\\AppData\\Roaming\\nltk_data...\n",
      "[nltk_data]   Package punkt is already up-to-date!\n",
      "[nltk_data] Downloading package stopwords to\n",
      "[nltk_data]     C:\\Users\\heram\\AppData\\Roaming\\nltk_data...\n",
      "[nltk_data]   Package stopwords is already up-to-date!\n"
     ]
    }
   ],
   "source": [
    "import re\n",
    "import nltk\n",
    "from nltk.tokenize import word_tokenize\n",
    "from nltk.corpus import stopwords\n",
    "from nltk.stem import PorterStemmer\n",
    "from sklearn.feature_extraction.text import CountVectorizer\n",
    "from sklearn.naive_bayes import MultinomialNB\n",
    "\n",
    "# download necessary NLTK datasets\n",
    "nltk.download('punkt')\n",
    "nltk.download('stopwords')\n",
    "\n",
    "# initialize stemmer and vectorizer\n",
    "stemmer = PorterStemmer()\n",
    "vectorizer = CountVectorizer()\n",
    "\n",
    "# define spam and ham emails\n",
    "spam_emails = [\"Free Viagra now!!!\", \"Get rich quick schemes\", \"Make money fast\"]\n",
    "ham_emails = [\"Hi, just wanted to check in\", \"Looking forward to seeing you soon\", \"I'll be there in 10 minutes\"]\n",
    "\n",
    "# preprocess and tokenize emails\n",
    "def preprocess(emails):\n",
    "    preprocessed = []\n",
    "    for email in emails:\n",
    "        # remove non-alphabetic characters and tokenize\n",
    "        tokens = word_tokenize(re.sub(r'[^a-zA-Z]', ' ', email.lower()))\n",
    "        # remove stopwords and stem tokens\n",
    "        preprocessed.append(\" \".join([stemmer.stem(word) for word in tokens if word not in stopwords.words('english')]))\n",
    "    return preprocessed\n",
    "\n",
    "# create training data\n",
    "training_data = preprocess(spam_emails + ham_emails)\n",
    "training_labels = [1] * len(spam_emails) + [0] * len(ham_emails)\n",
    "\n",
    "# transform training data into vectors\n",
    "training_vectors = vectorizer.fit_transform(training_data)\n",
    "\n",
    "# train Naive Bayes classifier\n",
    "classifier = MultinomialNB()\n",
    "classifier.fit(training_vectors, training_labels)\n",
    "\n",
    "# test with new emails\n",
    "new_emails = [\"Hello! Long-time members of the Proton community will notice this newsletter is a little different from our previous ones\"]\n",
    "new_emails_preprocessed = preprocess(new_emails)\n",
    "new_emails_vectors = vectorizer.transform(new_emails_preprocessed)\n",
    "predictions = classifier.predict(new_emails_vectors)\n",
    "\n",
    "# print results\n",
    "for i in range(len(new_emails)):\n",
    "    if predictions[i] == 1:\n",
    "        print(f\"{new_emails[i]} is spam\")\n",
    "    else:\n",
    "        print(f\"{new_emails[i]} is not spam\")\n"
   ]
  },
  {
   "cell_type": "code",
   "execution_count": null,
   "id": "b27a9beb",
   "metadata": {},
   "outputs": [],
   "source": []
  }
 ],
 "metadata": {
  "kernelspec": {
   "display_name": "Python 3 (ipykernel)",
   "language": "python",
   "name": "python3"
  },
  "language_info": {
   "codemirror_mode": {
    "name": "ipython",
    "version": 3
   },
   "file_extension": ".py",
   "mimetype": "text/x-python",
   "name": "python",
   "nbconvert_exporter": "python",
   "pygments_lexer": "ipython3",
   "version": "3.11.2"
  }
 },
 "nbformat": 4,
 "nbformat_minor": 5
}
