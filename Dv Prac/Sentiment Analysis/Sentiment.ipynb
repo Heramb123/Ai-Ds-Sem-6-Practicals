{
 "cells": [
  {
   "cell_type": "markdown",
   "metadata": {
    "id": "Dv01ltpT-hJp"
   },
   "source": [
    "# Experiment 6 - Sentiment Analysis"
   ]
  },
  {
   "cell_type": "code",
   "execution_count": 2,
   "metadata": {
    "colab": {
     "base_uri": "https://localhost:8080/"
    },
    "id": "VCPzEy_7eNsv",
    "outputId": "db071f32-fd13-413e-8088-a334456bccec"
   },
   "outputs": [
    {
     "name": "stdout",
     "output_type": "stream",
     "text": [
      "Requirement already satisfied: vaderSentiment in c:\\users\\heram\\appdata\\local\\programs\\python\\python311\\lib\\site-packages (3.3.2)\n",
      "Requirement already satisfied: requests in c:\\users\\heram\\appdata\\local\\programs\\python\\python311\\lib\\site-packages (from vaderSentiment) (2.28.2)\n",
      "Requirement already satisfied: charset-normalizer<4,>=2 in c:\\users\\heram\\appdata\\local\\programs\\python\\python311\\lib\\site-packages (from requests->vaderSentiment) (3.1.0)\n",
      "Requirement already satisfied: idna<4,>=2.5 in c:\\users\\heram\\appdata\\local\\programs\\python\\python311\\lib\\site-packages (from requests->vaderSentiment) (3.4)\n",
      "Requirement already satisfied: urllib3<1.27,>=1.21.1 in c:\\users\\heram\\appdata\\local\\programs\\python\\python311\\lib\\site-packages (from requests->vaderSentiment) (1.26.15)\n",
      "Requirement already satisfied: certifi>=2017.4.17 in c:\\users\\heram\\appdata\\local\\programs\\python\\python311\\lib\\site-packages (from requests->vaderSentiment) (2022.12.7)\n"
     ]
    },
    {
     "name": "stderr",
     "output_type": "stream",
     "text": [
      "\n",
      "[notice] A new release of pip available: 22.3.1 -> 23.1.1\n",
      "[notice] To update, run: C:\\Users\\heram\\AppData\\Local\\Programs\\Python\\Python311\\python.exe -m pip install --upgrade pip\n"
     ]
    }
   ],
   "source": [
    "!pip install vaderSentiment"
   ]
  },
  {
   "cell_type": "code",
   "execution_count": 3,
   "metadata": {
    "id": "zUA4UFEeadqG"
   },
   "outputs": [],
   "source": [
    "from vaderSentiment.vaderSentiment import SentimentIntensityAnalyzer"
   ]
  },
  {
   "cell_type": "code",
   "execution_count": 4,
   "metadata": {
    "colab": {
     "base_uri": "https://localhost:8080/"
    },
    "id": "5vnveTkFbC_2",
    "outputId": "def3fe79-8f91-4e14-86fc-a37874aa7173"
   },
   "outputs": [
    {
     "name": "stdout",
     "output_type": "stream",
     "text": [
      "Sentiment of text 1: {'neg': 0.0, 'neu': 0.406, 'pos': 0.594, 'compound': 0.6588}\n",
      "Sentiment of text 2: {'neg': 0.0, 'neu': 1.0, 'pos': 0.0, 'compound': 0.0}\n",
      "Sentiment of text 3: {'neg': 0.0, 'neu': 0.488, 'pos': 0.512, 'compound': 0.6369}\n",
      "Sentiment of text 4: {'neg': 0.0, 'neu': 0.826, 'pos': 0.174, 'compound': 0.2732}\n"
     ]
    }
   ],
   "source": [
    "sentiment = SentimentIntensityAnalyzer()\n",
    "\n",
    "text_1 = \"The food was great!\"\n",
    "\n",
    "text_2 =  \"My name is Eminem\"\n",
    "\n",
    "text_3 = \"VESIT is the best college\"\n",
    "\n",
    "text_4 = \"It is not a diffiicult task to score well in DAV \"\n",
    "\n",
    "sent_1 = sentiment.polarity_scores(text_1)\n",
    "\n",
    "sent_2 = sentiment.polarity_scores(text_2)\n",
    "\n",
    "sent_3 = sentiment.polarity_scores(text_3)\n",
    "\n",
    "sent_4 = sentiment.polarity_scores(text_4)\n",
    "\n",
    "\n",
    "print(\"Sentiment of text 1:\", sent_1)\n",
    "print(\"Sentiment of text 2:\", sent_2)\n",
    "print(\"Sentiment of text 3:\", sent_3)\n",
    "print(\"Sentiment of text 4:\", sent_4)"
   ]
  },
  {
   "cell_type": "code",
   "execution_count": null,
   "metadata": {
    "id": "Z6XnjWatydm3"
   },
   "outputs": [],
   "source": []
  }
 ],
 "metadata": {
  "accelerator": "GPU",
  "colab": {
   "gpuType": "T4",
   "provenance": []
  },
  "gpuClass": "standard",
  "kernelspec": {
   "display_name": "Python 3 (ipykernel)",
   "language": "python",
   "name": "python3"
  },
  "language_info": {
   "codemirror_mode": {
    "name": "ipython",
    "version": 3
   },
   "file_extension": ".py",
   "mimetype": "text/x-python",
   "name": "python",
   "nbconvert_exporter": "python",
   "pygments_lexer": "ipython3",
   "version": "3.11.2"
  }
 },
 "nbformat": 4,
 "nbformat_minor": 1
}
