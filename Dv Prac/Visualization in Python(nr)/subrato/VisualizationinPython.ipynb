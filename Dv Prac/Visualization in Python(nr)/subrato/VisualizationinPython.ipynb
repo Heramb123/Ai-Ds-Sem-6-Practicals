{
 "cells": [
  {
   "cell_type": "markdown",
   "metadata": {
    "id": "tYvi5pOBHGMX"
   },
   "source": [
    "# **Name: Heramb Pawar**\n",
    "\n",
    "# **Roll No: 67**\n",
    "\n",
    "# **Prac: 7**"
   ]
  },
  {
   "cell_type": "markdown",
   "metadata": {
    "id": "7AQIXbKYRGng"
   },
   "source": [
    "# **Time**\n"
   ]
  },
  {
   "cell_type": "markdown",
   "metadata": {
    "id": "C3lLShRUbCAG"
   },
   "source": [
    "# Line Chart"
   ]
  },
  {
   "cell_type": "code",
   "execution_count": null,
   "metadata": {
    "id": "4AU_EKTXEY7B"
   },
   "outputs": [],
   "source": [
    "import numpy as np\n",
    "import pandas as pd\n",
    "import matplotlib.pyplot as plt\n",
    "import seaborn as sns"
   ]
  },
  {
   "cell_type": "code",
   "execution_count": null,
   "metadata": {
    "id": "LrowKAh5bAsJ"
   },
   "outputs": [],
   "source": [
    "sales = \"Car_sales.csv\"\n",
    "sales_data = pd.read_csv(sales,encoding='ISO-8859-1')"
   ]
  },
  {
   "cell_type": "code",
   "execution_count": null,
   "metadata": {
    "colab": {
     "base_uri": "https://localhost:8080/",
     "height": 292
    },
    "id": "KMEloWouQDgW",
    "outputId": "652a5a6c-b956-49f9-88c8-8402d5bbdcd3"
   },
   "outputs": [],
   "source": [
    "plt.figure(figsize=(16,5))\n",
    "sns.lineplot(data=sales_data)"
   ]
  },
  {
   "cell_type": "markdown",
   "metadata": {
    "id": "sOIyadsJ1Fhe"
   },
   "source": [
    "## Stacked Area Chart"
   ]
  },
  {
   "cell_type": "code",
   "execution_count": null,
   "metadata": {
    "colab": {
     "base_uri": "https://localhost:8080/",
     "height": 542
    },
    "id": "7ZVUfuZFdj2M",
    "outputId": "add135d8-68da-4d69-98b4-bd54db4075e0"
   },
   "outputs": [],
   "source": [
    "import plotly.express as px\n",
    " \n",
    "df = px.data.iris()\n",
    " \n",
    "fig = px.area(df, x=\"sepal_width\",y=\"sepal_length\",\n",
    "            color=\"species\",\n",
    "            hover_data=['petal_width'],)\n",
    " \n",
    "fig.show()"
   ]
  },
  {
   "cell_type": "markdown",
   "metadata": {
    "id": "rFhoSV05RKMn"
   },
   "source": [
    "# **Relationship**\n"
   ]
  },
  {
   "cell_type": "markdown",
   "metadata": {
    "id": "9higy_MdajbM"
   },
   "source": [
    "# Scatter Plot"
   ]
  },
  {
   "cell_type": "code",
   "execution_count": null,
   "metadata": {
    "id": "w0xEI7rbT728"
   },
   "outputs": [],
   "source": [
    "import numpy as np\n",
    "import pandas as pd\n",
    "import matplotlib.pyplot as plt\n",
    "import seaborn as sns"
   ]
  },
  {
   "cell_type": "code",
   "execution_count": null,
   "metadata": {
    "id": "m6idWxpjUrVb"
   },
   "outputs": [],
   "source": [
    "file=\"dataset.csv\"\n",
    "data = pd.read_csv(file,encoding='ISO-8859-1')"
   ]
  },
  {
   "cell_type": "code",
   "execution_count": null,
   "metadata": {
    "colab": {
     "base_uri": "https://localhost:8080/",
     "height": 473
    },
    "id": "lH-qYUKiUk6B",
    "outputId": "80565b81-9e2b-4fe4-c219-767c5b1da03b"
   },
   "outputs": [],
   "source": [
    "plt.figure(figsize=(11,7))\n",
    "sns.scatterplot(x = 'Attack', y = 'Defense', s = 50, hue = 'PrimaryType', data=data)\n",
    "plt.legend(bbox_to_anchor=(1.02, 1)) # move legend to outside of the chart\n",
    "plt.title('Defense vs Attack for All Pokemons', fontsize=16)\n",
    "plt.xlabel('Attack', fontsize=12)\n",
    "plt.ylabel('Defense', fontsize=12)\n",
    "plt.show()"
   ]
  },
  {
   "cell_type": "markdown",
   "metadata": {
    "id": "3rtjmAmwRMBt"
   },
   "source": [
    "# **Part to whole**\n"
   ]
  },
  {
   "cell_type": "markdown",
   "metadata": {
    "id": "FPFXsXpZaWGe"
   },
   "source": [
    "# Tree Map"
   ]
  },
  {
   "cell_type": "code",
   "execution_count": null,
   "metadata": {
    "colab": {
     "base_uri": "https://localhost:8080/"
    },
    "id": "iXyI6USnxbR0",
    "outputId": "ac20a539-c8e9-4065-9c5b-b0de5c53e7e9"
   },
   "outputs": [],
   "source": [
    "pip install squarify"
   ]
  },
  {
   "cell_type": "code",
   "execution_count": null,
   "metadata": {
    "id": "B9Imr7h5ya4t"
   },
   "outputs": [],
   "source": [
    "file=\"dataset.csv\""
   ]
  },
  {
   "cell_type": "code",
   "execution_count": null,
   "metadata": {
    "id": "XYKuB8zzvuGr"
   },
   "outputs": [],
   "source": [
    "import pandas as pd\n",
    "import squarify\n",
    "import matplotlib.pyplot as plt\n",
    "import seaborn as sb\n",
    "import numpy as np\n",
    "  \n"
   ]
  },
  {
   "cell_type": "markdown",
   "metadata": {
    "id": "At0xtr8rab9O"
   },
   "source": [
    "# Pie Chart"
   ]
  },
  {
   "cell_type": "code",
   "execution_count": null,
   "metadata": {
    "colab": {
     "base_uri": "https://localhost:8080/",
     "height": 457
    },
    "id": "zLlvQ9R6St9J",
    "outputId": "cb71c386-a6c1-4e3c-de51-d7407119d3b0"
   },
   "outputs": [],
   "source": [
    "\n",
    "dataset = pd.read_csv(file,encoding='ISO-8859-1')\n",
    "df = pd.DataFrame(dataset)\n",
    "  \n",
    "\n",
    "top20_pokemon = df.loc[:, [\"Name\", \"Total\",\n",
    "                           'PrimaryType']].sort_values(\n",
    "    by=\"Total\", ascending=False)[:20]\n",
    "  \n",
    "\n",
    "plt.figure(figsize=(12, 6))\n",
    "\n",
    "plt.axis(\"off\")\n",
    "axis = squarify.plot(top20_pokemon['PrimaryType'].value_counts(),\n",
    "                     label=top20_pokemon['PrimaryType'].value_counts().index,\n",
    "                     color=sb.color_palette(\"tab20\", len(\n",
    "                         top20_pokemon['PrimaryType'].value_counts())),\n",
    "                     pad=1,\n",
    "                     text_kwargs={'fontsize': 18})\n",
    "axis.set_title(\"Primary Data Types Of Top 20 Pokemons\", fontsize=24)\n",
    "\n"
   ]
  },
  {
   "cell_type": "code",
   "execution_count": null,
   "metadata": {
    "colab": {
     "base_uri": "https://localhost:8080/"
    },
    "id": "b6UqmzLm5fO4",
    "outputId": "4cc27921-acac-4c78-a4b1-af866ba07099"
   },
   "outputs": [],
   "source": [
    "df = pd.DataFrame(dataset)\n",
    "count=df['PrimaryType'].value_counts()\n",
    "print(count)"
   ]
  },
  {
   "cell_type": "code",
   "execution_count": null,
   "metadata": {
    "colab": {
     "base_uri": "https://localhost:8080/"
    },
    "id": "9fyTUEOT-QKB",
    "outputId": "1eb6fe9c-0ac3-43af-d458-33006544ef32"
   },
   "outputs": [],
   "source": [
    "print(type(count))\n",
    "count1=count.to_dict()\n",
    "print(count1)"
   ]
  },
  {
   "cell_type": "code",
   "execution_count": null,
   "metadata": {
    "colab": {
     "base_uri": "https://localhost:8080/",
     "height": 576
    },
    "id": "m_QtBcOJzGPH",
    "outputId": "6687f300-13c5-4773-8137-e4772ed029cc"
   },
   "outputs": [],
   "source": [
    "fig = plt.figure(figsize =(10, 7))\n",
    "plt.pie(count1.values(),labels=count1.keys())\n",
    " \n",
    "plt.show()"
   ]
  },
  {
   "cell_type": "markdown",
   "metadata": {
    "id": "1f4elpFuRN1b"
   },
   "source": [
    "# **Comparing Category**\n"
   ]
  },
  {
   "cell_type": "markdown",
   "metadata": {
    "id": "mvUMV7PHWMku"
   },
   "source": [
    "# Heat Map"
   ]
  },
  {
   "cell_type": "code",
   "execution_count": null,
   "metadata": {
    "id": "-L4r8BjbQ4WH"
   },
   "outputs": [],
   "source": [
    "import pandas as pd\n",
    "import seaborn as sns\n",
    "import matplotlib.pyplot as plt"
   ]
  },
  {
   "cell_type": "code",
   "execution_count": null,
   "metadata": {
    "colab": {
     "base_uri": "https://localhost:8080/",
     "height": 363
    },
    "id": "DUDPeyQ_SwwF",
    "outputId": "d50c4620-4401-4e92-94d5-40987d3f30c3"
   },
   "outputs": [],
   "source": [
    "df=pd.read_csv('forestfires.csv')\n",
    "df.head(10)"
   ]
  },
  {
   "cell_type": "code",
   "execution_count": null,
   "metadata": {
    "colab": {
     "base_uri": "https://localhost:8080/"
    },
    "id": "5BDXkly_S8hv",
    "outputId": "9a5376a1-8def-4fdc-808c-490324888837"
   },
   "outputs": [],
   "source": [
    "data=df.corr()"
   ]
  },
  {
   "cell_type": "code",
   "execution_count": null,
   "metadata": {
    "colab": {
     "base_uri": "https://localhost:8080/",
     "height": 924
    },
    "id": "mXB_KXSfTCoX",
    "outputId": "0e0a1989-5dfc-4406-bddb-a08dca237d31"
   },
   "outputs": [],
   "source": [
    "plt.figure(figsize=(8,9),dpi=300)\n",
    "sns.heatmap(data,annot=True)\n",
    "plt.plot()"
   ]
  },
  {
   "cell_type": "markdown",
   "metadata": {
    "id": "0GL4pP9mbGi4"
   },
   "source": [
    "# Bar Charts"
   ]
  },
  {
   "cell_type": "code",
   "execution_count": null,
   "metadata": {
    "colab": {
     "base_uri": "https://localhost:8080/",
     "height": 451
    },
    "id": "pB0O6sAlbHHZ",
    "outputId": "96760ea9-4741-4350-a7ff-531f416f0e50"
   },
   "outputs": [],
   "source": [
    "import numpy as np\n",
    "import matplotlib.pyplot as plt\n",
    " \n",
    "df=pd.read_csv('forestfires.csv',nrows=10)\n",
    "df.head(10)\n",
    "\n",
    "fig = plt.figure(figsize = (10, 5))\n",
    "plt.bar(df['wind'],df['ISI'], color ='maroon',\n",
    "        width = 0.4)\n",
    " \n",
    "plt.xlabel(\"wind\")\n",
    "plt.ylabel(\"ISI\")\n",
    "plt.title(\"Relation between ISI & wind\")\n",
    "plt.show()"
   ]
  },
  {
   "cell_type": "markdown",
   "metadata": {
    "id": "AE6rU4GeRRdS"
   },
   "source": [
    "# **Qualitative**\n"
   ]
  },
  {
   "cell_type": "markdown",
   "metadata": {
    "id": "1fTbaq7mZ7lG"
   },
   "source": [
    "# Word Cloud"
   ]
  },
  {
   "cell_type": "code",
   "execution_count": null,
   "metadata": {},
   "outputs": [],
   "source": [
    "pip install wordcloud"
   ]
  },
  {
   "cell_type": "code",
   "execution_count": null,
   "metadata": {
    "colab": {
     "base_uri": "https://localhost:8080/",
     "height": 285
    },
    "id": "01qN3zflIufK",
    "outputId": "1baa1a9f-c70d-4507-b793-5ad837d24b8f"
   },
   "outputs": [],
   "source": [
    "import pandas as pd\n",
    "import matplotlib.pyplot as plt\n",
    "from wordcloud import WordCloud\n",
    "\n",
    "\n",
    "df = pd.read_csv(\"android-games.csv\")\n",
    "df.head()\n",
    "\n",
    "text2 = \" \".join(title for title in df.title)\n",
    "word_cloud2 = WordCloud(collocations = False, background_color = 'white').generate(text2)\n",
    "\n",
    "plt.imshow(word_cloud2, interpolation='bilinear')\n",
    "plt.axis(\"off\")\n",
    "plt.show()\n"
   ]
  },
  {
   "cell_type": "code",
   "execution_count": null,
   "metadata": {},
   "outputs": [],
   "source": []
  },
  {
   "cell_type": "code",
   "execution_count": null,
   "metadata": {},
   "outputs": [],
   "source": []
  },
  {
   "cell_type": "code",
   "execution_count": null,
   "metadata": {},
   "outputs": [],
   "source": []
  }
 ],
 "metadata": {
  "colab": {
   "provenance": []
  },
  "kernelspec": {
   "display_name": "Python 3 (ipykernel)",
   "language": "python",
   "name": "python3"
  },
  "language_info": {
   "codemirror_mode": {
    "name": "ipython",
    "version": 3
   },
   "file_extension": ".py",
   "mimetype": "text/x-python",
   "name": "python",
   "nbconvert_exporter": "python",
   "pygments_lexer": "ipython3",
   "version": "3.11.2"
  }
 },
 "nbformat": 4,
 "nbformat_minor": 1
}
